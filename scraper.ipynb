{
 "cells": [
  {
   "cell_type": "markdown",
   "metadata": {},
   "source": [
    "# Setup"
   ]
  },
  {
   "cell_type": "code",
   "execution_count": 2,
   "metadata": {},
   "outputs": [
    {
     "name": "stdout",
     "output_type": "stream",
     "text": [
      "Requirement already satisfied: requests in c:\\users\\mrhyde\\miniconda3\\lib\\site-packages (from -r requirements.txt (line 1)) (2.31.0)\n",
      "Requirement already satisfied: beautifulsoup4 in c:\\users\\mrhyde\\miniconda3\\lib\\site-packages (from -r requirements.txt (line 2)) (4.12.2)\n",
      "Requirement already satisfied: charset-normalizer<4,>=2 in c:\\users\\mrhyde\\miniconda3\\lib\\site-packages (from requests->-r requirements.txt (line 1)) (2.0.4)\n",
      "Requirement already satisfied: idna<4,>=2.5 in c:\\users\\mrhyde\\miniconda3\\lib\\site-packages (from requests->-r requirements.txt (line 1)) (3.4)\n",
      "Requirement already satisfied: urllib3<3,>=1.21.1 in c:\\users\\mrhyde\\miniconda3\\lib\\site-packages (from requests->-r requirements.txt (line 1)) (1.26.16)\n",
      "Requirement already satisfied: certifi>=2017.4.17 in c:\\users\\mrhyde\\miniconda3\\lib\\site-packages (from requests->-r requirements.txt (line 1)) (2023.11.17)\n",
      "Requirement already satisfied: soupsieve>1.2 in c:\\users\\mrhyde\\miniconda3\\lib\\site-packages (from beautifulsoup4->-r requirements.txt (line 2)) (2.5)\n",
      "Note: you may need to restart the kernel to use updated packages.\n"
     ]
    },
    {
     "name": "stderr",
     "output_type": "stream",
     "text": [
      "\n",
      "[notice] A new release of pip is available: 23.3.1 -> 23.3.2\n",
      "[notice] To update, run: python.exe -m pip install --upgrade pip\n"
     ]
    }
   ],
   "source": [
    "%pip install -r requirements.txt"
   ]
  },
  {
   "cell_type": "code",
   "execution_count": 1,
   "metadata": {},
   "outputs": [
    {
     "name": "stdout",
     "output_type": "stream",
     "text": [
      "Running scraper Incognitymous - Sultry Summer\n",
      "DONE\n",
      "Running scraper Incognitymous - Chain Reaction\n",
      "DONE\n",
      "Running scraper The Serpent, The Sinner & The Saint\n",
      "DONE\n",
      "Running scraper I Accidentallyed Addictive Jizz\n",
      "DONE\n",
      "Running scraper There once was an ugly Succubus\n",
      "DONE\n",
      "Running scraper Two Too Hot Detectives\n",
      "DONE\n",
      "Running scraper The Cummoner\n",
      "DONE\n",
      "Running scraper Elven\n",
      "DONE\n",
      "Running scraper Oglaf\n",
      "DONE\n",
      "Running scraper Tales from Alderwood\n",
      "DONE\n",
      "Running scraper Alfie\n",
      "DONE\n",
      "Running scraper Menage A Trois\n",
      "DONE\n",
      "ALL DONE\n"
     ]
    }
   ],
   "source": [
    "from Scraper import *\n",
    "\n",
    "repo = ScraperManager()\n",
    "\n",
    "scraper = Scraper(\"Incognitymous - Sultry Summer\", Scraper.incognitymous, {\"page_url\":\"https://incognitymous.com/comic/sultry-summer/?state=complete\",\"cookie_filename\":\"cookies.incogintymous.txt\"})\n",
    "repo.add(scraper)\n",
    "repo.run(\"Incognitymous - Sultry Summer\",gallery_based=True)\n",
    "\n",
    "scraper = Scraper(\"Incognitymous - Chain Reaction\", Scraper.incognitymous, {\"page_url\":\"https://incognitymous.com/comic/chain-reaction/?state=complete\",\"cookie_filename\":\"cookies.incogintymous.txt\"})\n",
    "repo.add(scraper)\n",
    "repo.run(\"Incognitymous - Chain Reaction\",gallery_based=True)\n",
    "\n",
    "scraper = Scraper(\"The Serpent, The Sinner & The Saint\", Scraper.serpent, {\"page_url\":\"https://serpent-sinner-saint.com/0000.html\"})\n",
    "repo.add(scraper)\n",
    "repo.run(\"The Serpent, The Sinner & The Saint\")\n",
    "\n",
    "scraper = Scraper(\"I Accidentallyed Addictive Jizz\", Scraper.succubus, {\"page_url\":\"https://iaccidentallyedaddictivejizz.the-comic.org/comics/1#content-start\"})\n",
    "repo.add(scraper)\n",
    "repo.run(\"I Accidentallyed Addictive Jizz\")\n",
    "\n",
    "scraper = Scraper(\"There once was an ugly Succubus\", Scraper.succubus, {\"page_url\":\"https://ugly-succubus.the-comic.org/comics/1#content-start\"})\n",
    "repo.add(scraper)\n",
    "repo.run(\"There once was an ugly Succubus\")\n",
    "\n",
    "scraper = Scraper(\"Two Too Hot Detectives\", Scraper.succubus, {\"page_url\":\"https://twotoohotdetectives.the-comic.org/\"})\n",
    "repo.add(scraper)\n",
    "repo.run(\"Two Too Hot Detectives\")\n",
    "\n",
    "scraper = Scraper(\"The Cummoner\", Scraper.cummoner, {\"page_url\":\"https://totempole666.com/comic/first-time-for-everything-00-cover/\"})\n",
    "repo.add(scraper)\n",
    "repo.run(\"The Cummoner\")\n",
    "\n",
    "scraper = Scraper(\"Elven\", Scraper.elven, {\"page_url\":\"https://elven.co.nz/comic/elven-00001/\"})\n",
    "repo.add(scraper)\n",
    "repo.run(\"Elven\")\n",
    "\n",
    "scraper = Scraper(\"Oglaf\", Scraper.oglaf, {\"page_url\":\"https://www.oglaf.com/cumsprite/\",\"cookie_filename\":\"cookies.oglaf.txt\"})\n",
    "repo.add(scraper)\n",
    "repo.run(\"Oglaf\")\n",
    "\n",
    "scraper = Scraper(\"Tales from Alderwood\", Scraper.alderwood, {\"page_url\":\"https://alderwood.the-comic.org/comics/1\"})\n",
    "repo.add(scraper)\n",
    "repo.run(\"Tales from Alderwood\")\n",
    "\n",
    "scraper = Scraper(\"Alfie\", Scraper.alfie, {\"page_url\":\"https://buttsmithy.com/archives/comic/p1\"})\n",
    "repo.add(scraper)\n",
    "repo.run(\"Alfie\")\n",
    "\n",
    "scraper = Scraper(\"Menage A Trois\", Scraper.menageatrois, {\"page_url\":\"https://pixietrixcomix.com/menage-a-3/for-new-readers\"})\n",
    "repo.add(scraper)\n",
    "repo.run(\"Menage A Trois\")\n",
    "\n",
    "print(\"ALL DONE\")"
   ]
  }
 ],
 "metadata": {
  "kernelspec": {
   "display_name": "base",
   "language": "python",
   "name": "python3"
  },
  "language_info": {
   "codemirror_mode": {
    "name": "ipython",
    "version": 3
   },
   "file_extension": ".py",
   "mimetype": "text/x-python",
   "name": "python",
   "nbconvert_exporter": "python",
   "pygments_lexer": "ipython3",
   "version": "3.10.6"
  }
 },
 "nbformat": 4,
 "nbformat_minor": 2
}
